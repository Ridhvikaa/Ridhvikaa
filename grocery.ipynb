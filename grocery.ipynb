{
  "nbformat": 4,
  "nbformat_minor": 0,
  "metadata": {
    "colab": {
      "name": "grocery.ipynb",
      "provenance": [],
      "collapsed_sections": [],
      "authorship_tag": "ABX9TyMtaEraoz5hbtYZubQihnSC",
      "include_colab_link": true
    },
    "kernelspec": {
      "name": "python3",
      "display_name": "Python 3"
    },
    "language_info": {
      "name": "python"
    }
  },
  "cells": [
    {
      "cell_type": "markdown",
      "metadata": {
        "id": "view-in-github",
        "colab_type": "text"
      },
      "source": [
        "<a href=\"https://colab.research.google.com/github/Ridhvikaa/Ridhvikaa/blob/main/grocery.ipynb\" target=\"_parent\"><img src=\"https://colab.research.google.com/assets/colab-badge.svg\" alt=\"Open In Colab\"/></a>"
      ]
    },
    {
      "cell_type": "code",
      "metadata": {
        "id": "7j5N3iOxl80a"
      },
      "source": [
        "import pandas as pd\n",
        "import json"
      ],
      "execution_count": null,
      "outputs": []
    },
    {
      "cell_type": "code",
      "metadata": {
        "id": "Xu7cpBJwpZZv"
      },
      "source": [
        "fd=open(\"record.json\",'r')\n",
        "r=fd.read()\n",
        "fd.close()\n",
        "record=json.loads(r)"
      ],
      "execution_count": null,
      "outputs": []
    },
    {
      "cell_type": "code",
      "metadata": {
        "colab": {
          "base_uri": "https://localhost:8080/"
        },
        "id": "V2-8zLawqEuW",
        "outputId": "f9603fad-8c36-47f7-f1c4-eed2d7d2996f"
      },
      "source": [
        "record"
      ],
      "execution_count": null,
      "outputs": [
        {
          "output_type": "execute_result",
          "data": {
            "text/plain": [
              "{'1001': {'name': 'sugar', 'pr': 100, 'qn': 34},\n",
              " '1002': {'name': 'teapowder', 'pr': 800, 'qn': 100},\n",
              " '1003': {'name': 'Dal', 'pr': 85, 'qn': 100},\n",
              " '1004': {'name': 'Moog', 'pr': 5, 'qn': 1000},\n",
              " '1005': {'name': 'wheat', 'pr': 20, 'qn': 100},\n",
              " '1006': {'name': 'paddy', 'pr': 50000, 'qn': 10},\n",
              " '1007': {'name': 'Jowar', 'pr': 1500, 'qn': 110},\n",
              " '1008': {'name': 'Agarbatti', 'pr': 599, 'qn': 5},\n",
              " '1009': {'name': 'rin soap', 'pr': 18, 'qn': 10},\n",
              " '1010': {'name': 'powder', 'pr': 133, 'qn': 9},\n",
              " '1011': {'name': 'pickle', 'pr': 189, 'qn': 7},\n",
              " '1012': {'name': 'brush', 'pr': 139, 'qn': 22},\n",
              " '1013': {'name': 'Flour', 'pr': 1923, 'qn': 120},\n",
              " '1014': {'name': 'Santoor soap', 'pr': 18, 'qn': 110},\n",
              " '1015': {'name': 'Lux soap', 'pr': 169, 'qn': 130},\n",
              " '1016': {'name': 'Neem soap', 'pr': 189, 'qn': 120},\n",
              " '1017': {'name': 'Green dal soap', 'pr': 199, 'qn': 1},\n",
              " '1018': {'name': 'Chilli powder', 'pr': 10, 'qn': 1},\n",
              " '1019': {'name': 'Lays', 'pr': 88, 'qn': 8},\n",
              " '1020': {'name': 'Kukure', 'pr': 889, 'qn': 90},\n",
              " '1021': {'name': 'Chik shampoo', 'pr': 1799, 'qn': 99},\n",
              " '1022': {'name': 'Dove shampoo', 'pr': 1679, 'qn': 10},\n",
              " '1023': {'name': 'Lemon rice powder', 'pr': 1779, 'qn': 9},\n",
              " '1024': {'name': 'Sunsilk', 'pr': 1999, 'qn': 33},\n",
              " '1025': {'name': 'cashew nut', 'pr': 134, 'qn': 5},\n",
              " '1026': {'name': 'badam', 'pr': 132, 'qn': 3},\n",
              " '1027': {'name': 'Pista', 'pr': 134, 'qn': 9},\n",
              " '1028': {'name': 'Pasta', 'pr': 198, 'qn': 3},\n",
              " '1029': {'name': 'soft drinks', 'pr': 197, 'qn': 3},\n",
              " '1030': {'name': 'Chocolate pack', 'pr': 199, 'qn': 1},\n",
              " '1032': {'name': '5-star', 'pr': 5, 'qn': 10}}"
            ]
          },
          "metadata": {},
          "execution_count": 6
        }
      ]
    },
    {
      "cell_type": "code",
      "metadata": {
        "colab": {
          "base_uri": "https://localhost:8080/"
        },
        "id": "E4b-N3DSqIOw",
        "outputId": "7a5cabcf-a98c-4103-e666-1c1a8ec25650"
      },
      "source": [
        "prod_id = str(input(\"Enter product id:\"))\n",
        "name = str(input(\"Enter name:\"))\n",
        "pr = int(input(\"Enter price:\"))\n",
        "qn = int(input(\"Enter quantity:\"))\n",
        "\n",
        "record[prod_id] = {'name': name, 'pr': pr, 'qn': qn}\n",
        "\n",
        "js = json.dumps(record)\n",
        "\n",
        "fd = open(\"record.json\",'w')\n",
        "fd.write(js)\n",
        "fd.close()"
      ],
      "execution_count": null,
      "outputs": [
        {
          "name": "stdout",
          "output_type": "stream",
          "text": [
            "Enter product id:1033\n",
            "Enter name:Snickers\n",
            "Enter price:4\n",
            "Enter quantity:9\n"
          ]
        }
      ]
    },
    {
      "cell_type": "code",
      "metadata": {
        "colab": {
          "base_uri": "https://localhost:8080/"
        },
        "id": "8alCAAqqqP8J",
        "outputId": "4f849c74-3cdb-4968-bf57-468432ecf69f"
      },
      "source": [
        "record"
      ],
      "execution_count": null,
      "outputs": [
        {
          "output_type": "execute_result",
          "data": {
            "text/plain": [
              "{'1001': {'name': 'sugar', 'pr': 100, 'qn': 34},\n",
              " '1002': {'name': 'teapowder', 'pr': 800, 'qn': 100},\n",
              " '1003': {'name': 'Dal', 'pr': 85, 'qn': 100},\n",
              " '1004': {'name': 'Moog', 'pr': 5, 'qn': 1000},\n",
              " '1005': {'name': 'wheat', 'pr': 20, 'qn': 100},\n",
              " '1006': {'name': 'paddy', 'pr': 50000, 'qn': 10},\n",
              " '1007': {'name': 'Jowar', 'pr': 1500, 'qn': 110},\n",
              " '1008': {'name': 'Agarbatti', 'pr': 599, 'qn': 5},\n",
              " '1009': {'name': 'rin soap', 'pr': 18, 'qn': 10},\n",
              " '1010': {'name': 'powder', 'pr': 133, 'qn': 9},\n",
              " '1011': {'name': 'pickle', 'pr': 189, 'qn': 7},\n",
              " '1012': {'name': 'brush', 'pr': 139, 'qn': 22},\n",
              " '1013': {'name': 'Flour', 'pr': 1923, 'qn': 120},\n",
              " '1014': {'name': 'Santoor soap', 'pr': 18, 'qn': 110},\n",
              " '1015': {'name': 'Lux soap', 'pr': 169, 'qn': 130},\n",
              " '1016': {'name': 'Neem soap', 'pr': 189, 'qn': 120},\n",
              " '1017': {'name': 'Green dal soap', 'pr': 199, 'qn': 1},\n",
              " '1018': {'name': 'Chilli powder', 'pr': 10, 'qn': 1},\n",
              " '1019': {'name': 'Lays', 'pr': 88, 'qn': 8},\n",
              " '1020': {'name': 'Kukure', 'pr': 889, 'qn': 90},\n",
              " '1021': {'name': 'Chik shampoo', 'pr': 1799, 'qn': 99},\n",
              " '1022': {'name': 'Dove shampoo', 'pr': 1679, 'qn': 10},\n",
              " '1023': {'name': 'Lemon rice powder', 'pr': 1779, 'qn': 9},\n",
              " '1024': {'name': 'Sunsilk', 'pr': 1999, 'qn': 33},\n",
              " '1025': {'name': 'cashew nut', 'pr': 134, 'qn': 5},\n",
              " '1026': {'name': 'badam', 'pr': 132, 'qn': 3},\n",
              " '1027': {'name': 'Pista', 'pr': 134, 'qn': 9},\n",
              " '1028': {'name': 'Pasta', 'pr': 198, 'qn': 3},\n",
              " '1029': {'name': 'soft drinks', 'pr': 197, 'qn': 3},\n",
              " '1030': {'name': 'Chocolate pack', 'pr': 199, 'qn': 1},\n",
              " '1032': {'name': '5-star', 'pr': 5, 'qn': 10},\n",
              " '1033': {'name': 'Snickers', 'pr': 4, 'qn': 9}}"
            ]
          },
          "metadata": {},
          "execution_count": 8
        }
      ]
    },
    {
      "cell_type": "code",
      "metadata": {
        "colab": {
          "base_uri": "https://localhost:8080/"
        },
        "id": "-_kzsfRnqXao",
        "outputId": "b39c9880-5f9c-47aa-928f-1396b94a65fa"
      },
      "source": [
        "n=input(\"enter what you want to delete\")\n",
        "del record[n]"
      ],
      "execution_count": null,
      "outputs": [
        {
          "name": "stdout",
          "output_type": "stream",
          "text": [
            "enter what you want to delete1033\n"
          ]
        }
      ]
    },
    {
      "cell_type": "code",
      "metadata": {
        "colab": {
          "base_uri": "https://localhost:8080/"
        },
        "id": "c1XMTng0qeuU",
        "outputId": "f307d95c-98ae-4b83-9aed-00fd6c909f25"
      },
      "source": [
        "record"
      ],
      "execution_count": null,
      "outputs": [
        {
          "output_type": "execute_result",
          "data": {
            "text/plain": [
              "{'1001': {'name': 'sugar', 'pr': 100, 'qn': 34},\n",
              " '1002': {'name': 'teapowder', 'pr': 800, 'qn': 100},\n",
              " '1003': {'name': 'Dal', 'pr': 85, 'qn': 100},\n",
              " '1004': {'name': 'Moog', 'pr': 5, 'qn': 1000},\n",
              " '1005': {'name': 'wheat', 'pr': 20, 'qn': 100},\n",
              " '1006': {'name': 'paddy', 'pr': 50000, 'qn': 10},\n",
              " '1007': {'name': 'Jowar', 'pr': 1500, 'qn': 110},\n",
              " '1008': {'name': 'Agarbatti', 'pr': 599, 'qn': 5},\n",
              " '1009': {'name': 'rin soap', 'pr': 18, 'qn': 10},\n",
              " '1010': {'name': 'powder', 'pr': 133, 'qn': 9},\n",
              " '1011': {'name': 'pickle', 'pr': 189, 'qn': 7},\n",
              " '1012': {'name': 'brush', 'pr': 139, 'qn': 22},\n",
              " '1013': {'name': 'Flour', 'pr': 1923, 'qn': 120},\n",
              " '1014': {'name': 'Santoor soap', 'pr': 18, 'qn': 110},\n",
              " '1015': {'name': 'Lux soap', 'pr': 169, 'qn': 130},\n",
              " '1016': {'name': 'Neem soap', 'pr': 189, 'qn': 120},\n",
              " '1017': {'name': 'Green dal soap', 'pr': 199, 'qn': 1},\n",
              " '1018': {'name': 'Chilli powder', 'pr': 10, 'qn': 1},\n",
              " '1019': {'name': 'Lays', 'pr': 88, 'qn': 8},\n",
              " '1020': {'name': 'Kukure', 'pr': 889, 'qn': 90},\n",
              " '1021': {'name': 'Chik shampoo', 'pr': 1799, 'qn': 99},\n",
              " '1022': {'name': 'Dove shampoo', 'pr': 1679, 'qn': 10},\n",
              " '1023': {'name': 'Lemon rice powder', 'pr': 1779, 'qn': 9},\n",
              " '1024': {'name': 'Sunsilk', 'pr': 1999, 'qn': 33},\n",
              " '1025': {'name': 'cashew nut', 'pr': 134, 'qn': 5},\n",
              " '1026': {'name': 'badam', 'pr': 132, 'qn': 3},\n",
              " '1027': {'name': 'Pista', 'pr': 134, 'qn': 9},\n",
              " '1028': {'name': 'Pasta', 'pr': 198, 'qn': 3},\n",
              " '1029': {'name': 'soft drinks', 'pr': 197, 'qn': 3},\n",
              " '1030': {'name': 'Chocolate pack', 'pr': 199, 'qn': 1},\n",
              " '1032': {'name': '5-star', 'pr': 5, 'qn': 10}}"
            ]
          },
          "metadata": {},
          "execution_count": 10
        }
      ]
    },
    {
      "cell_type": "code",
      "metadata": {
        "colab": {
          "base_uri": "https://localhost:8080/"
        },
        "id": "AGecXvT7qhqT",
        "outputId": "8f60a521-fde9-4f11-bd04-1464f6461035"
      },
      "source": [
        "#purchase\n",
        "ui_prod=str(input(\"enter product id\"))\n",
        "ui_quant=int(input(\"enter the quantity\"))\n",
        "print(\"Product\",record[ui_prod]['name'])\n",
        "print(\"Price:\", record[ui_prod]['pr'])\n",
        "print(\"Billing Amount: \", record[ui_prod]['pr']*ui_quant)\n",
        "record[ui_prod]['qn']= record[ui_prod]['qn'] - ui_quant"
      ],
      "execution_count": null,
      "outputs": [
        {
          "output_type": "stream",
          "name": "stdout",
          "text": [
            "enter product id1001\n",
            "enter the quantity4\n",
            "Product sugar\n",
            "Price: 100\n",
            "Billing Amount:  400\n"
          ]
        }
      ]
    },
    {
      "cell_type": "code",
      "metadata": {
        "id": "uhYjLNFCtyaH"
      },
      "source": [
        "record[ui_prod]['qn'] = record[ui_prod]['qn'] - ui_quant"
      ],
      "execution_count": null,
      "outputs": []
    },
    {
      "cell_type": "code",
      "metadata": {
        "colab": {
          "base_uri": "https://localhost:8080/"
        },
        "id": "Ca5KbTquuc3O",
        "outputId": "34adf3e0-e229-41dc-994b-aad171a31c74"
      },
      "source": [
        "record"
      ],
      "execution_count": null,
      "outputs": [
        {
          "output_type": "execute_result",
          "data": {
            "text/plain": [
              "{'1001': {'name': 'sugar', 'pr': 100, 'qn': 26},\n",
              " '1002': {'name': 'teapowder', 'pr': 800, 'qn': 100},\n",
              " '1003': {'name': 'Dal', 'pr': 85, 'qn': 100},\n",
              " '1004': {'name': 'Moog', 'pr': 5, 'qn': 1000},\n",
              " '1005': {'name': 'wheat', 'pr': 20, 'qn': 100},\n",
              " '1006': {'name': 'paddy', 'pr': 50000, 'qn': 10},\n",
              " '1007': {'name': 'Jowar', 'pr': 1500, 'qn': 110},\n",
              " '1008': {'name': 'Agarbatti', 'pr': 599, 'qn': 5},\n",
              " '1009': {'name': 'rin soap', 'pr': 18, 'qn': 10},\n",
              " '1010': {'name': 'powder', 'pr': 133, 'qn': 9},\n",
              " '1011': {'name': 'pickle', 'pr': 189, 'qn': 7},\n",
              " '1012': {'name': 'brush', 'pr': 139, 'qn': 22},\n",
              " '1013': {'name': 'Flour', 'pr': 1923, 'qn': 120},\n",
              " '1014': {'name': 'Santoor soap', 'pr': 18, 'qn': 110},\n",
              " '1015': {'name': 'Lux soap', 'pr': 169, 'qn': 130},\n",
              " '1016': {'name': 'Neem soap', 'pr': 189, 'qn': 120},\n",
              " '1017': {'name': 'Green dal soap', 'pr': 199, 'qn': 1},\n",
              " '1018': {'name': 'Chilli powder', 'pr': 10, 'qn': 1},\n",
              " '1019': {'name': 'Lays', 'pr': 88, 'qn': 8},\n",
              " '1020': {'name': 'Kukure', 'pr': 889, 'qn': 90},\n",
              " '1021': {'name': 'Chik shampoo', 'pr': 1799, 'qn': 99},\n",
              " '1022': {'name': 'Dove shampoo', 'pr': 1679, 'qn': 10},\n",
              " '1023': {'name': 'Lemon rice powder', 'pr': 1779, 'qn': 9},\n",
              " '1024': {'name': 'Sunsilk', 'pr': 1999, 'qn': 33},\n",
              " '1025': {'name': 'cashew nut', 'pr': 134, 'qn': 5},\n",
              " '1026': {'name': 'badam', 'pr': 132, 'qn': 3},\n",
              " '1027': {'name': 'Pista', 'pr': 134, 'qn': 9},\n",
              " '1028': {'name': 'Pasta', 'pr': 198, 'qn': 3},\n",
              " '1029': {'name': 'soft drinks', 'pr': 197, 'qn': 3},\n",
              " '1030': {'name': 'Chocolate pack', 'pr': 199, 'qn': 1},\n",
              " '1032': {'name': '5-star', 'pr': 5, 'qn': 10}}"
            ]
          },
          "metadata": {},
          "execution_count": 14
        }
      ]
    },
    {
      "cell_type": "code",
      "metadata": {
        "id": "lXsG-4_TufDO"
      },
      "source": [
        "#update inventory after purchase"
      ],
      "execution_count": null,
      "outputs": []
    },
    {
      "cell_type": "code",
      "metadata": {
        "colab": {
          "base_uri": "https://localhost:8080/"
        },
        "id": "vWKOgtE6upn1",
        "outputId": "4186e2cb-8ff9-4312-d1cf-1aa232dd7ef4"
      },
      "source": [
        "js= json.dumps(record)\n",
        "fd= open(\"record.json\",'w')\n",
        "fd.write(js)\n",
        "fd.close"
      ],
      "execution_count": null,
      "outputs": [
        {
          "output_type": "execute_result",
          "data": {
            "text/plain": [
              "<function TextIOWrapper.close>"
            ]
          },
          "metadata": {},
          "execution_count": 16
        }
      ]
    },
    {
      "cell_type": "code",
      "metadata": {
        "colab": {
          "base_uri": "https://localhost:8080/"
        },
        "id": "MLS_1PSau4n6",
        "outputId": "6dd5bf14-e6a5-46cf-98b2-a04e13e26871"
      },
      "source": [
        "{'prod':ui_prod, 'qn':ui_quant,'amount':record[ui_prod]['pr']*ui_quant}"
      ],
      "execution_count": null,
      "outputs": [
        {
          "output_type": "execute_result",
          "data": {
            "text/plain": [
              "{'amount': 400, 'prod': '1001', 'qn': 4}"
            ]
          },
          "metadata": {},
          "execution_count": 17
        }
      ]
    },
    {
      "cell_type": "code",
      "metadata": {
        "id": "9BxIZ7OivPXT"
      },
      "source": [
        "sales={1:{'prod':ui_prod,'qn': ui_quant, 'amount':record[ui_prod]['pr']*ui_quant},\n",
        "       2:{'prod':ui_prod, 'qn': ui_quant, 'amount':record[ui_prod]['pr']*ui_quant},\n",
        "       3:{'prod':ui_prod, 'qn': ui_quant, 'amount':record[ui_prod]['pr']*ui_quant}}"
      ],
      "execution_count": null,
      "outputs": []
    },
    {
      "cell_type": "code",
      "metadata": {
        "id": "UD6mYnIBv6dQ"
      },
      "source": [
        "sale=json.dumps(sales)"
      ],
      "execution_count": null,
      "outputs": []
    },
    {
      "cell_type": "code",
      "metadata": {
        "id": "laL4UqXuwO7M"
      },
      "source": [
        "fd=open(\"sales.json\",'w')\n",
        "r=fd.read()\n",
        "fd.close()"
      ],
      "execution_count": null,
      "outputs": []
    },
    {
      "cell_type": "code",
      "metadata": {
        "colab": {
          "base_uri": "https://localhost:8080/"
        },
        "id": "LKqgM4FUwWde",
        "outputId": "8ead32e9-22b2-44c0-c031-bcb06c90dd1b"
      },
      "source": [
        "{(len(sales)+1):{'prod':ui_prod,'qn': ui_quant, 'amount':record[ui_prod]['pr']*ui_quant}}"
      ],
      "execution_count": null,
      "outputs": [
        {
          "output_type": "execute_result",
          "data": {
            "text/plain": [
              "{4: {'amount': 400, 'prod': '1001', 'qn': 4}}"
            ]
          },
          "metadata": {},
          "execution_count": 25
        }
      ]
    },
    {
      "cell_type": "code",
      "metadata": {
        "colab": {
          "base_uri": "https://localhost:8080/"
        },
        "id": "uQwZ7l7gwfIe",
        "outputId": "9645cfa1-4dff-4153-a783-201dfdd41a72"
      },
      "source": [
        "sales"
      ],
      "execution_count": null,
      "outputs": [
        {
          "output_type": "execute_result",
          "data": {
            "text/plain": [
              "{1: {'amount': 400, 'prod': '1001', 'qn': 4},\n",
              " 2: {'amount': 400, 'prod': '1001', 'qn': 4},\n",
              " 3: {'amount': 400, 'prod': '1001', 'qn': 4}}"
            ]
          },
          "metadata": {},
          "execution_count": 26
        }
      ]
    },
    {
      "cell_type": "code",
      "metadata": {
        "id": "LB8IHdGow-gO"
      },
      "source": [
        ""
      ],
      "execution_count": null,
      "outputs": []
    }
  ]
}